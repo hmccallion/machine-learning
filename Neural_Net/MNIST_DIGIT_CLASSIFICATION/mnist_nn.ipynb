{
 "cells": [
  {
   "cell_type": "markdown",
   "metadata": {},
   "source": [
    "Dependencies"
   ]
  },
  {
   "cell_type": "code",
   "execution_count": 1,
   "metadata": {},
   "outputs": [],
   "source": [
    "import numpy as np\n",
    "import pandas as pd\n",
    "import matplotlib.pyplot as plt"
   ]
  },
  {
   "cell_type": "code",
   "execution_count": 2,
   "metadata": {},
   "outputs": [],
   "source": [
    "data = pd.read_csv('digits.csv')"
   ]
  },
  {
   "cell_type": "code",
   "execution_count": 3,
   "metadata": {},
   "outputs": [
    {
     "data": {
      "text/html": [
       "<div>\n",
       "<style scoped>\n",
       "    .dataframe tbody tr th:only-of-type {\n",
       "        vertical-align: middle;\n",
       "    }\n",
       "\n",
       "    .dataframe tbody tr th {\n",
       "        vertical-align: top;\n",
       "    }\n",
       "\n",
       "    .dataframe thead th {\n",
       "        text-align: right;\n",
       "    }\n",
       "</style>\n",
       "<table border=\"1\" class=\"dataframe\">\n",
       "  <thead>\n",
       "    <tr style=\"text-align: right;\">\n",
       "      <th></th>\n",
       "      <th>label</th>\n",
       "      <th>pixel0</th>\n",
       "      <th>pixel1</th>\n",
       "      <th>pixel2</th>\n",
       "      <th>pixel3</th>\n",
       "      <th>pixel4</th>\n",
       "      <th>pixel5</th>\n",
       "      <th>pixel6</th>\n",
       "      <th>pixel7</th>\n",
       "      <th>pixel8</th>\n",
       "      <th>...</th>\n",
       "      <th>pixel774</th>\n",
       "      <th>pixel775</th>\n",
       "      <th>pixel776</th>\n",
       "      <th>pixel777</th>\n",
       "      <th>pixel778</th>\n",
       "      <th>pixel779</th>\n",
       "      <th>pixel780</th>\n",
       "      <th>pixel781</th>\n",
       "      <th>pixel782</th>\n",
       "      <th>pixel783</th>\n",
       "    </tr>\n",
       "  </thead>\n",
       "  <tbody>\n",
       "    <tr>\n",
       "      <th>0</th>\n",
       "      <td>1</td>\n",
       "      <td>0</td>\n",
       "      <td>0</td>\n",
       "      <td>0</td>\n",
       "      <td>0</td>\n",
       "      <td>0</td>\n",
       "      <td>0</td>\n",
       "      <td>0</td>\n",
       "      <td>0</td>\n",
       "      <td>0</td>\n",
       "      <td>...</td>\n",
       "      <td>0</td>\n",
       "      <td>0</td>\n",
       "      <td>0</td>\n",
       "      <td>0</td>\n",
       "      <td>0</td>\n",
       "      <td>0</td>\n",
       "      <td>0</td>\n",
       "      <td>0</td>\n",
       "      <td>0</td>\n",
       "      <td>0</td>\n",
       "    </tr>\n",
       "    <tr>\n",
       "      <th>1</th>\n",
       "      <td>0</td>\n",
       "      <td>0</td>\n",
       "      <td>0</td>\n",
       "      <td>0</td>\n",
       "      <td>0</td>\n",
       "      <td>0</td>\n",
       "      <td>0</td>\n",
       "      <td>0</td>\n",
       "      <td>0</td>\n",
       "      <td>0</td>\n",
       "      <td>...</td>\n",
       "      <td>0</td>\n",
       "      <td>0</td>\n",
       "      <td>0</td>\n",
       "      <td>0</td>\n",
       "      <td>0</td>\n",
       "      <td>0</td>\n",
       "      <td>0</td>\n",
       "      <td>0</td>\n",
       "      <td>0</td>\n",
       "      <td>0</td>\n",
       "    </tr>\n",
       "    <tr>\n",
       "      <th>2</th>\n",
       "      <td>1</td>\n",
       "      <td>0</td>\n",
       "      <td>0</td>\n",
       "      <td>0</td>\n",
       "      <td>0</td>\n",
       "      <td>0</td>\n",
       "      <td>0</td>\n",
       "      <td>0</td>\n",
       "      <td>0</td>\n",
       "      <td>0</td>\n",
       "      <td>...</td>\n",
       "      <td>0</td>\n",
       "      <td>0</td>\n",
       "      <td>0</td>\n",
       "      <td>0</td>\n",
       "      <td>0</td>\n",
       "      <td>0</td>\n",
       "      <td>0</td>\n",
       "      <td>0</td>\n",
       "      <td>0</td>\n",
       "      <td>0</td>\n",
       "    </tr>\n",
       "    <tr>\n",
       "      <th>3</th>\n",
       "      <td>4</td>\n",
       "      <td>0</td>\n",
       "      <td>0</td>\n",
       "      <td>0</td>\n",
       "      <td>0</td>\n",
       "      <td>0</td>\n",
       "      <td>0</td>\n",
       "      <td>0</td>\n",
       "      <td>0</td>\n",
       "      <td>0</td>\n",
       "      <td>...</td>\n",
       "      <td>0</td>\n",
       "      <td>0</td>\n",
       "      <td>0</td>\n",
       "      <td>0</td>\n",
       "      <td>0</td>\n",
       "      <td>0</td>\n",
       "      <td>0</td>\n",
       "      <td>0</td>\n",
       "      <td>0</td>\n",
       "      <td>0</td>\n",
       "    </tr>\n",
       "    <tr>\n",
       "      <th>4</th>\n",
       "      <td>0</td>\n",
       "      <td>0</td>\n",
       "      <td>0</td>\n",
       "      <td>0</td>\n",
       "      <td>0</td>\n",
       "      <td>0</td>\n",
       "      <td>0</td>\n",
       "      <td>0</td>\n",
       "      <td>0</td>\n",
       "      <td>0</td>\n",
       "      <td>...</td>\n",
       "      <td>0</td>\n",
       "      <td>0</td>\n",
       "      <td>0</td>\n",
       "      <td>0</td>\n",
       "      <td>0</td>\n",
       "      <td>0</td>\n",
       "      <td>0</td>\n",
       "      <td>0</td>\n",
       "      <td>0</td>\n",
       "      <td>0</td>\n",
       "    </tr>\n",
       "  </tbody>\n",
       "</table>\n",
       "<p>5 rows × 785 columns</p>\n",
       "</div>"
      ],
      "text/plain": [
       "   label  pixel0  pixel1  pixel2  pixel3  pixel4  pixel5  pixel6  pixel7  \\\n",
       "0      1       0       0       0       0       0       0       0       0   \n",
       "1      0       0       0       0       0       0       0       0       0   \n",
       "2      1       0       0       0       0       0       0       0       0   \n",
       "3      4       0       0       0       0       0       0       0       0   \n",
       "4      0       0       0       0       0       0       0       0       0   \n",
       "\n",
       "   pixel8  ...  pixel774  pixel775  pixel776  pixel777  pixel778  pixel779  \\\n",
       "0       0  ...         0         0         0         0         0         0   \n",
       "1       0  ...         0         0         0         0         0         0   \n",
       "2       0  ...         0         0         0         0         0         0   \n",
       "3       0  ...         0         0         0         0         0         0   \n",
       "4       0  ...         0         0         0         0         0         0   \n",
       "\n",
       "   pixel780  pixel781  pixel782  pixel783  \n",
       "0         0         0         0         0  \n",
       "1         0         0         0         0  \n",
       "2         0         0         0         0  \n",
       "3         0         0         0         0  \n",
       "4         0         0         0         0  \n",
       "\n",
       "[5 rows x 785 columns]"
      ]
     },
     "execution_count": 3,
     "metadata": {},
     "output_type": "execute_result"
    }
   ],
   "source": [
    "data.head()"
   ]
  },
  {
   "cell_type": "markdown",
   "metadata": {},
   "source": [
    "<h1>Data Preprocessing</h1>\n",
    "\n",
    "Train and test Splitting"
   ]
  },
  {
   "cell_type": "code",
   "execution_count": 4,
   "metadata": {},
   "outputs": [],
   "source": [
    "\n",
    "def one_hot(labels, num_classes=10):\n",
    "    \n",
    "    return np.eye(num_classes)[labels]"
   ]
  },
  {
   "cell_type": "code",
   "execution_count": 5,
   "metadata": {},
   "outputs": [],
   "source": [
    "def prepare_train_data():\n",
    "    \n",
    "    \n",
    "    \n",
    "    training_data = data.loc[0:40000]\n",
    "    X_train = training_data.drop(columns = \"label\")\n",
    "    X_train = X_train / 255\n",
    "    y_train_label = training_data[\"label\"]\n",
    "\n",
    "    \n",
    "    X_train = np.array(X_train)\n",
    "    m,n = X_train.shape\n",
    "    y_train = np.array(y_train_label)\n",
    "    y_train = one_hot(y_train)\n",
    "    \n",
    "\n",
    "    return X_train,y_train,y_train_label\n"
   ]
  },
  {
   "cell_type": "code",
   "execution_count": 6,
   "metadata": {},
   "outputs": [],
   "source": [
    "X_train,y_train,y_train_lbel = prepare_train_data()"
   ]
  },
  {
   "cell_type": "code",
   "execution_count": 7,
   "metadata": {},
   "outputs": [
    {
     "data": {
      "text/plain": [
       "(40001, 784)"
      ]
     },
     "execution_count": 7,
     "metadata": {},
     "output_type": "execute_result"
    }
   ],
   "source": [
    "X_train.shape"
   ]
  },
  {
   "cell_type": "code",
   "execution_count": 8,
   "metadata": {},
   "outputs": [
    {
     "data": {
      "text/plain": [
       "(40001, 10)"
      ]
     },
     "execution_count": 8,
     "metadata": {},
     "output_type": "execute_result"
    }
   ],
   "source": [
    "y_train.shape"
   ]
  },
  {
   "cell_type": "code",
   "execution_count": 9,
   "metadata": {},
   "outputs": [],
   "source": [
    "def prepare_test_data():\n",
    "    \n",
    "    testing_data = data.loc[40000:42000]\n",
    "    X_test = testing_data.drop(columns=\"label\")\n",
    "    X_test = X_test / 255\n",
    "    y_test_label = testing_data[\"label\"]\n",
    "\n",
    "    \n",
    "    X_test = np.array(X_test)\n",
    "    y_test = np.array(y_test_label)\n",
    "\n",
    "    y_test = one_hot(y_test)\n",
    "\n",
    "    return X_test,y_test,y_test_label"
   ]
  },
  {
   "cell_type": "markdown",
   "metadata": {},
   "source": [
    "<h1> Neural Network Architecture </h1>"
   ]
  },
  {
   "cell_type": "markdown",
   "metadata": {},
   "source": [
    "Layers, nodes, weights and biases."
   ]
  },
  {
   "cell_type": "code",
   "execution_count": 10,
   "metadata": {},
   "outputs": [],
   "source": [
    "def init_params():\n",
    "    # nodes per layer\n",
    "    n = [784,10,10]\n",
    "\n",
    "    w1 = np.random.randn(n[1],n[0]) * np.sqrt(2. / n[0])\n",
    "    \n",
    "    w2 = np.random.randn(n[2],n[1]) *  np.sqrt(2. / n[1])\n",
    "    \n",
    "    \n",
    "    b1 = np.random.randn(n[1],1)\n",
    "    \n",
    "    b2 = np.random.randn(n[2],1)\n",
    "\n",
    "    return w1,b1,w2,b2\n"
   ]
  },
  {
   "cell_type": "markdown",
   "metadata": {},
   "source": [
    "Activation functions"
   ]
  },
  {
   "cell_type": "code",
   "execution_count": 11,
   "metadata": {},
   "outputs": [],
   "source": [
    "def relu(z):\n",
    "    return np.maximum(z,0)\n",
    "\n",
    "def d_relu(z):\n",
    "    return (z > 0).astype(np.float32)"
   ]
  },
  {
   "cell_type": "code",
   "execution_count": 12,
   "metadata": {},
   "outputs": [],
   "source": [
    "def softmax(Z):\n",
    "    A = np.exp(Z) / sum(np.exp(Z))\n",
    "    return A\n",
    "\n",
    "def d_soft(A2, y_train):\n",
    "    \n",
    "    return A2 - y_train \n"
   ]
  },
  {
   "cell_type": "markdown",
   "metadata": {},
   "source": [
    "Cross Entropy Loss Function for Multiple Classes"
   ]
  },
  {
   "cell_type": "code",
   "execution_count": 13,
   "metadata": {},
   "outputs": [],
   "source": [
    "def categorical_crossentropy_loss(y_train, y_hat):\n",
    "    \n",
    "    y_hat = np.clip(y_hat, 1e-10, 1 - 1e-10)\n",
    "    m = y_train.shape[0]\n",
    "    \n",
    "    loss = -np.sum(y_train.T * np.log(y_hat))/m\n",
    "    \n",
    "    return loss"
   ]
  },
  {
   "cell_type": "markdown",
   "metadata": {},
   "source": [
    "Forward Propagation"
   ]
  },
  {
   "cell_type": "code",
   "execution_count": 14,
   "metadata": {},
   "outputs": [],
   "source": [
    "def forward_prop(X_train,w1,b1,w2,b2):\n",
    "    \n",
    "    A0 = X_train.T\n",
    "    \n",
    "\n",
    "    z1 =  np.dot(w1,A0) + b1\n",
    "    A1 = relu(z1)\n",
    "\n",
    "    \n",
    "    z2 = np.dot(w2,A1) + b2\n",
    "\n",
    "    A2 = softmax(z2)\n",
    "    cache = {\"A0\" :A0,\n",
    "             \"A1\" : A1,\n",
    "             \"A2\" : A2 ,\n",
    "             \"z2\" : z2,\n",
    "             \"z1\" : z1}\n",
    "    \n",
    "    return cache\n"
   ]
  },
  {
   "cell_type": "markdown",
   "metadata": {},
   "source": [
    "Back Propagation"
   ]
  },
  {
   "cell_type": "code",
   "execution_count": 15,
   "metadata": {},
   "outputs": [],
   "source": [
    "def back_prop(X_train,y_train,cache,w1,b1,w2,b2,alpha=0.01,m=X_train.shape[0]):\n",
    "    \n",
    "    \n",
    "    A0 = cache[\"A0\"]\n",
    "    A1 = cache[\"A1\"]\n",
    "    A2 = cache[\"A2\"]\n",
    "    z1 = cache[\"z1\"]\n",
    "    z2 = cache[\"z2\"]\n",
    "\n",
    "    \n",
    "    da2 = d_soft(A2,y_train.T)\n",
    "    dz2 = da2\n",
    "\n",
    "    dw2 = np.dot(dz2,A1.T)/m\n",
    "    db2 = np.sum(dz2,axis=1,keepdims=True)/m\n",
    "\n",
    "\n",
    "    da1 = np.dot(w2.T,dz2)\n",
    "    dz1 = da1 * d_relu(z1)\n",
    "\n",
    "    dw1 = np.dot(dz1,A0.T)/m\n",
    "    db1 = np.sum(dz1,axis=1,keepdims = True)/m\n",
    "\n",
    "    \n",
    "    \n",
    "    w1 -= alpha * dw1  \n",
    "    b1 -= alpha * db1  \n",
    "    w2 -= alpha * dw2  \n",
    "    b2 -= alpha * db2  \n",
    "    \n",
    "\n",
    "    \n",
    "    gradients = {\n",
    "        \"dW1\": dw1,\n",
    "        \"db1\": db1,\n",
    "        \"dW2\": dw2,\n",
    "        \"db2\": db2\n",
    "    }\n",
    "\n",
    "    return w1, b1, w2, b2, gradients\n",
    "\n",
    "\n"
   ]
  },
  {
   "cell_type": "markdown",
   "metadata": {},
   "source": [
    "The training function"
   ]
  },
  {
   "cell_type": "code",
   "execution_count": 16,
   "metadata": {},
   "outputs": [],
   "source": [
    "def train(X_train, y_train, num_epochs=1500, alpha=0.15, hidden_size=10, output_size=10):\n",
    "    \n",
    "    \n",
    "    input_size = X_train.shape[0]  \n",
    "    m = X_train.shape[1] \n",
    "\n",
    "    \n",
    "    w1, b1, w2, b2 = init_params()\n",
    "    losses =[]\n",
    "    \n",
    "    for epoch in range(num_epochs):\n",
    "        \n",
    "        cache = forward_prop(X_train, w1, b1, w2, b2)\n",
    "\n",
    "        \n",
    "        A2 = cache[\"A2\"]\n",
    "\n",
    "        \n",
    "        loss = categorical_crossentropy_loss(y_train, A2)\n",
    "        losses.append(loss)\n",
    "\n",
    "        \n",
    "        w1, b1, w2, b2, gradients = back_prop(X_train, y_train, cache, w1, b1, w2, b2, alpha)\n",
    "\n",
    "        \n",
    "        if epoch % 100 == 0:\n",
    "            print(f\"Epoch {epoch}/{num_epochs}, Loss: {loss:.4f}\")\n",
    "            \n",
    "\n",
    "    model = {\"w1\" : w1,\n",
    "               \"w2\" : w2,\n",
    "               \"b1\" : b1,\n",
    "               \"b2\" : b2}\n",
    "    \n",
    "    return model,losses\n"
   ]
  },
  {
   "cell_type": "markdown",
   "metadata": {},
   "source": [
    "A script that builds the model."
   ]
  },
  {
   "cell_type": "code",
   "execution_count": 18,
   "metadata": {},
   "outputs": [
    {
     "name": "stdout",
     "output_type": "stream",
     "text": [
      "Epoch 0/1500, Loss: 2.7314\n",
      "Epoch 100/1500, Loss: 0.5662\n",
      "Epoch 200/1500, Loss: 0.4027\n",
      "Epoch 300/1500, Loss: 0.3545\n",
      "Epoch 400/1500, Loss: 0.3302\n",
      "Epoch 500/1500, Loss: 0.3150\n",
      "Epoch 600/1500, Loss: 0.3043\n",
      "Epoch 700/1500, Loss: 0.2961\n",
      "Epoch 800/1500, Loss: 0.2895\n",
      "Epoch 900/1500, Loss: 0.2839\n",
      "Epoch 1000/1500, Loss: 0.2791\n",
      "Epoch 1100/1500, Loss: 0.2750\n",
      "Epoch 1200/1500, Loss: 0.2714\n",
      "Epoch 1300/1500, Loss: 0.2681\n",
      "Epoch 1400/1500, Loss: 0.2651\n"
     ]
    }
   ],
   "source": [
    "X_train,y_train,y_train_label = prepare_train_data()\n",
    "\n",
    "model_cache,errors = train(X_train,y_train)"
   ]
  },
  {
   "cell_type": "code",
   "execution_count": 18,
   "metadata": {},
   "outputs": [
    {
     "data": {
      "text/plain": [
       "dict_keys(['w1', 'w2', 'b1', 'b2'])"
      ]
     },
     "execution_count": 18,
     "metadata": {},
     "output_type": "execute_result"
    }
   ],
   "source": [
    "model_cache.keys()"
   ]
  },
  {
   "cell_type": "code",
   "execution_count": 19,
   "metadata": {},
   "outputs": [],
   "source": [
    "def model_predict(X, model_cache):\n",
    "    \n",
    "\n",
    "    w1 = model_cache[\"w1\"]\n",
    "    b1 = model_cache[\"b1\"]\n",
    "    w2 = model_cache[\"w2\"]\n",
    "    b2 = model_cache[\"b2\"]\n",
    "    \n",
    "    \n",
    "    A0 = X.T\n",
    "    z1 = np.dot(w1, A0) + b1  \n",
    "    A1 = relu(z1)  \n",
    "    \n",
    "    z2 = np.dot(w2, A1) + b2  \n",
    "    A2 = softmax(z2)  \n",
    "\n",
    "    \n",
    "    predictions = np.argmax(A2, axis=0)\n",
    "    \n",
    "    return predictions"
   ]
  },
  {
   "cell_type": "code",
   "execution_count": 20,
   "metadata": {},
   "outputs": [],
   "source": [
    "def image_predict(image,model_cache):\n",
    "\n",
    "    \n",
    "    w1 = model_cache[\"w1\"]\n",
    "    b1 = model_cache[\"b1\"]\n",
    "    w2 = model_cache[\"w2\"]\n",
    "    b2 = model_cache[\"b2\"]\n",
    "\n",
    "    \n",
    "    image = image.reshape(1,-1)\n",
    "\n",
    "    \n",
    "    A0 = image.T  \n",
    "    z1 = np.dot(w1, A0) + b1 \n",
    "    A1 = relu(z1)  \n",
    "    \n",
    "    z2 = np.dot(w2, A1) + b2  \n",
    "    A2 = softmax(z2)  \n",
    "\n",
    "    \n",
    "    image_prediction = np.argmax(A2, axis=0)  \n",
    "    \n",
    "    return image_prediction[0]\n"
   ]
  },
  {
   "cell_type": "markdown",
   "metadata": {},
   "source": [
    "<h1> Model Perfomance </h1>"
   ]
  },
  {
   "cell_type": "code",
   "execution_count": 21,
   "metadata": {},
   "outputs": [],
   "source": [
    "def performance_metrics(X_test,y_test,y_test_label):\n",
    "    \n",
    "    y_pred = model_predict(X_test,model_cache)\n",
    "    y_pred = pd.DataFrame(y_pred)\n",
    "    y_pred.rename(columns = {0 : \"prediction\"},inplace=True)\n",
    "\n",
    "    y_actual = pd.DataFrame(y_test_label)\n",
    "    y_actual.rename(columns = {\"label\" : \"actual\"},inplace=True)\n",
    "    y_actual.reset_index(drop=True,inplace=True)\n",
    "\n",
    "    compare_df = pd.concat([y_pred,y_actual],axis=1)\n",
    "    compare_df[\"correct\"] = compare_df[\"prediction\"] == compare_df[\"actual\"]\n",
    "\n",
    "    amount_correct = compare_df[\"correct\"].sum(axis=0)\n",
    "    accuracy = amount_correct/len(compare_df)\n",
    "\n",
    "    return compare_df,accuracy\n",
    "    "
   ]
  },
  {
   "cell_type": "code",
   "execution_count": 22,
   "metadata": {},
   "outputs": [],
   "source": [
    "X_test,y_test,y_test_label = prepare_test_data()\n",
    "\n",
    "compare_df,accuracy = performance_metrics(X_test,y_test,y_test_label)"
   ]
  },
  {
   "cell_type": "code",
   "execution_count": 23,
   "metadata": {},
   "outputs": [
    {
     "name": "stdout",
     "output_type": "stream",
     "text": [
      "accuracy: 0.9085\n"
     ]
    }
   ],
   "source": [
    "print(\"accuracy:\",accuracy)"
   ]
  },
  {
   "cell_type": "code",
   "execution_count": 27,
   "metadata": {},
   "outputs": [
    {
     "data": {
      "text/html": [
       "<div>\n",
       "<style scoped>\n",
       "    .dataframe tbody tr th:only-of-type {\n",
       "        vertical-align: middle;\n",
       "    }\n",
       "\n",
       "    .dataframe tbody tr th {\n",
       "        vertical-align: top;\n",
       "    }\n",
       "\n",
       "    .dataframe thead th {\n",
       "        text-align: right;\n",
       "    }\n",
       "</style>\n",
       "<table border=\"1\" class=\"dataframe\">\n",
       "  <thead>\n",
       "    <tr style=\"text-align: right;\">\n",
       "      <th></th>\n",
       "      <th>Prediction</th>\n",
       "      <th>Actual</th>\n",
       "      <th>Correct</th>\n",
       "    </tr>\n",
       "  </thead>\n",
       "  <tbody>\n",
       "    <tr>\n",
       "      <th>0</th>\n",
       "      <td>2</td>\n",
       "      <td>2</td>\n",
       "      <td>True</td>\n",
       "    </tr>\n",
       "    <tr>\n",
       "      <th>1</th>\n",
       "      <td>3</td>\n",
       "      <td>3</td>\n",
       "      <td>True</td>\n",
       "    </tr>\n",
       "    <tr>\n",
       "      <th>2</th>\n",
       "      <td>3</td>\n",
       "      <td>9</td>\n",
       "      <td>False</td>\n",
       "    </tr>\n",
       "    <tr>\n",
       "      <th>3</th>\n",
       "      <td>7</td>\n",
       "      <td>7</td>\n",
       "      <td>True</td>\n",
       "    </tr>\n",
       "    <tr>\n",
       "      <th>4</th>\n",
       "      <td>8</td>\n",
       "      <td>8</td>\n",
       "      <td>True</td>\n",
       "    </tr>\n",
       "    <tr>\n",
       "      <th>...</th>\n",
       "      <td>...</td>\n",
       "      <td>...</td>\n",
       "      <td>...</td>\n",
       "    </tr>\n",
       "    <tr>\n",
       "      <th>1995</th>\n",
       "      <td>0</td>\n",
       "      <td>0</td>\n",
       "      <td>True</td>\n",
       "    </tr>\n",
       "    <tr>\n",
       "      <th>1996</th>\n",
       "      <td>1</td>\n",
       "      <td>1</td>\n",
       "      <td>True</td>\n",
       "    </tr>\n",
       "    <tr>\n",
       "      <th>1997</th>\n",
       "      <td>7</td>\n",
       "      <td>7</td>\n",
       "      <td>True</td>\n",
       "    </tr>\n",
       "    <tr>\n",
       "      <th>1998</th>\n",
       "      <td>6</td>\n",
       "      <td>6</td>\n",
       "      <td>True</td>\n",
       "    </tr>\n",
       "    <tr>\n",
       "      <th>1999</th>\n",
       "      <td>9</td>\n",
       "      <td>9</td>\n",
       "      <td>True</td>\n",
       "    </tr>\n",
       "  </tbody>\n",
       "</table>\n",
       "<p>2000 rows × 3 columns</p>\n",
       "</div>"
      ],
      "text/plain": [
       "      Prediction  Actual  Correct\n",
       "0              2       2     True\n",
       "1              3       3     True\n",
       "2              3       9    False\n",
       "3              7       7     True\n",
       "4              8       8     True\n",
       "...          ...     ...      ...\n",
       "1995           0       0     True\n",
       "1996           1       1     True\n",
       "1997           7       7     True\n",
       "1998           6       6     True\n",
       "1999           9       9     True\n",
       "\n",
       "[2000 rows x 3 columns]"
      ]
     },
     "execution_count": 27,
     "metadata": {},
     "output_type": "execute_result"
    }
   ],
   "source": [
    "compare_df"
   ]
  },
  {
   "cell_type": "markdown",
   "metadata": {},
   "source": [
    "Plotting the Cost"
   ]
  },
  {
   "cell_type": "code",
   "execution_count": 73,
   "metadata": {},
   "outputs": [],
   "source": [
    "def plot_cost(error_list,iterations=range(1,1501)):\n",
    "    plt.plot(iterations,errors)\n",
    "    plt.xlabel('Epochs')\n",
    "    plt.ylabel(\"Cost\")\n",
    "    plt.title(\"Cost over Epochs\")\n",
    "    plt.show()"
   ]
  },
  {
   "cell_type": "code",
   "execution_count": 74,
   "metadata": {},
   "outputs": [
    {
     "data": {
      "image/png": "[encoded data removed]",
      "text/plain": [
       "<Figure size 640x480 with 1 Axes>"
      ]
     },
     "metadata": {},
     "output_type": "display_data"
    }
   ],
   "source": [
    "plot_cost(errors)"
   ]
  },
  {
   "cell_type": "markdown",
   "metadata": {},
   "source": [
    "<h1> Model Serialization </h1>"
   ]
  },
  {
   "cell_type": "code",
   "execution_count": 75,
   "metadata": {},
   "outputs": [],
   "source": [
    "import pickle"
   ]
  },
  {
   "cell_type": "markdown",
   "metadata": {},
   "source": [
    "Inside the pickle I want the model, the feed forward function, and accuracy metrics."
   ]
  },
  {
   "cell_type": "code",
   "execution_count": 81,
   "metadata": {},
   "outputs": [
    {
     "data": {
      "text/plain": [
       "{'w1': array([[-0.01839759,  0.06275458, -0.00862762, ..., -0.05178352,\n",
       "          0.07739124,  0.0414599 ],\n",
       "        [-0.04272554, -0.04273976, -0.00311958, ..., -0.04812657,\n",
       "          0.04625804, -0.07375862],\n",
       "        [-0.01288278, -0.02646478, -0.03240016, ..., -0.02753372,\n",
       "          0.03503061,  0.02987456],\n",
       "        ...,\n",
       "        [-0.05597791, -0.03923486, -0.04904667, ...,  0.04785107,\n",
       "          0.0694302 ,  0.04125866],\n",
       "        [ 0.00665879, -0.02993368,  0.05560461, ...,  0.00698609,\n",
       "         -0.03232681,  0.03925113],\n",
       "        [-0.03150346, -0.01868972, -0.03508272, ...,  0.02898342,\n",
       "          0.02873573,  0.02676417]]),\n",
       " 'w2': array([[ 1.07843418, -0.07107305, -0.44979259, -0.02621364, -0.38292333,\n",
       "         -0.24940892,  0.2563273 ,  0.67160594, -0.5502608 , -1.19671455],\n",
       "        [-0.4863279 ,  0.22093321, -0.08947972, -0.14444421, -0.55848333,\n",
       "          0.06451171, -0.85538268, -0.9659002 ,  1.06151843, -0.5934482 ],\n",
       "        [ 1.02942309, -0.13694714,  1.44233889, -0.00293929, -0.184768  ,\n",
       "         -0.7700402 ,  0.0225945 , -0.60582001,  0.11037995,  0.27588883],\n",
       "        [-0.31586158,  1.376254  , -0.4018839 , -0.2690374 , -0.12036837,\n",
       "          0.37981991, -0.75476511, -0.85860197, -1.15447659,  0.27013135],\n",
       "        [-0.25366054, -2.15540112, -0.95546324, -0.84226782,  0.01048899,\n",
       "         -0.52139547, -0.529661  ,  0.92260597,  0.96587902,  0.88732231],\n",
       "        [-2.03325563,  1.08560575, -0.53988149,  0.50018187, -0.18399776,\n",
       "         -0.74256654,  0.1488127 ,  1.33473955, -0.08457863, -1.44136095],\n",
       "        [ 0.1549749 , -1.07018686,  0.56512982, -0.6392761 ,  0.28247734,\n",
       "          0.68897623, -0.40704745,  0.99640276, -0.19309017, -1.45802782],\n",
       "        [ 0.12963494, -0.54941697,  0.03875627,  0.19070856, -0.1749244 ,\n",
       "         -0.35044063,  2.00260255, -0.98037311,  0.95148867, -0.0675612 ],\n",
       "        [ 0.01419663, -0.09581815, -1.13508626, -0.89444745, -0.02713023,\n",
       "          0.49158601, -0.9027045 ,  0.82508749,  0.81694988,  0.03576185],\n",
       "        [-0.26023642, -0.62047414, -1.24265371,  0.03587688,  0.10442982,\n",
       "          0.17334187,  0.5384812 , -0.00986923,  0.55802959,  0.90287873]]),\n",
       " 'b1': array([[-0.42483349],\n",
       "        [ 1.26949225],\n",
       "        [ 0.32610336],\n",
       "        [-1.73480518],\n",
       "        [ 0.13193334],\n",
       "        [-0.25329774],\n",
       "        [ 0.79949607],\n",
       "        [ 0.24018184],\n",
       "        [ 0.8246309 ],\n",
       "        [-0.33709258]]),\n",
       " 'b2': array([[-1.88328926],\n",
       "        [ 1.40711857],\n",
       "        [-0.54826393],\n",
       "        [ 0.05212138],\n",
       "        [ 1.62999662],\n",
       "        [-1.1959485 ],\n",
       "        [ 0.83702525],\n",
       "        [-0.43242489],\n",
       "        [-0.73634743],\n",
       "        [-0.2933543 ]])}"
      ]
     },
     "execution_count": 81,
     "metadata": {},
     "output_type": "execute_result"
    }
   ],
   "source": [
    "model_cache"
   ]
  },
  {
   "cell_type": "code",
   "execution_count": 104,
   "metadata": {},
   "outputs": [],
   "source": [
    "digit_recognizer = {\n",
    "    \"digit_model\" : model_cache,\n",
    "    \"costs\" : errors,\n",
    "    \"compare_df\" : compare_df,\n",
    "    \"accuracy\" : accuracy\n",
    "}\n"
   ]
  },
  {
   "cell_type": "code",
   "execution_count": 105,
   "metadata": {},
   "outputs": [],
   "source": [
    "# Saving the object to a pickle file\n",
    "with open('digit_recognizer.pkl', 'wb') as f:\n",
    "    pickle.dump(digit_recognizer, f)"
   ]
  }
 ],
 "metadata": {
  "kernelspec": {
   "display_name": "base",
   "language": "python",
   "name": "python3"
  },
  "language_info": {
   "codemirror_mode": {
    "name": "ipython",
    "version": 3
   },
   "file_extension": ".py",
   "mimetype": "text/x-python",
   "name": "python",
   "nbconvert_exporter": "python",
   "pygments_lexer": "ipython3",
   "version": "3.9.19"
  }
 },
 "nbformat": 4,
 "nbformat_minor": 2
}
