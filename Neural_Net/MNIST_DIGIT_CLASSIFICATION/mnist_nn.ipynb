{
 "cells": [
  {
   "cell_type": "markdown",
   "metadata": {},
   "source": [
    "# Dependencies"
   ]
  },
  {
   "cell_type": "code",
   "execution_count": 1,
   "metadata": {},
   "outputs": [],
   "source": [
    "import numpy as np\n",
    "import pandas as pd\n",
    "import matplotlib.pyplot as plt"
   ]
  },
  {
   "cell_type": "code",
   "execution_count": 2,
   "metadata": {},
   "outputs": [],
   "source": [
    "data = pd.read_csv('digits.csv')"
   ]
  },
  {
   "cell_type": "code",
   "execution_count": 3,
   "metadata": {},
   "outputs": [
    {
     "data": {
      "text/html": [
       "<div>\n",
       "<style scoped>\n",
       "    .dataframe tbody tr th:only-of-type {\n",
       "        vertical-align: middle;\n",
       "    }\n",
       "\n",
       "    .dataframe tbody tr th {\n",
       "        vertical-align: top;\n",
       "    }\n",
       "\n",
       "    .dataframe thead th {\n",
       "        text-align: right;\n",
       "    }\n",
       "</style>\n",
       "<table border=\"1\" class=\"dataframe\">\n",
       "  <thead>\n",
       "    <tr style=\"text-align: right;\">\n",
       "      <th></th>\n",
       "      <th>label</th>\n",
       "      <th>pixel0</th>\n",
       "      <th>pixel1</th>\n",
       "      <th>pixel2</th>\n",
       "      <th>pixel3</th>\n",
       "      <th>pixel4</th>\n",
       "      <th>pixel5</th>\n",
       "      <th>pixel6</th>\n",
       "      <th>pixel7</th>\n",
       "      <th>pixel8</th>\n",
       "      <th>...</th>\n",
       "      <th>pixel774</th>\n",
       "      <th>pixel775</th>\n",
       "      <th>pixel776</th>\n",
       "      <th>pixel777</th>\n",
       "      <th>pixel778</th>\n",
       "      <th>pixel779</th>\n",
       "      <th>pixel780</th>\n",
       "      <th>pixel781</th>\n",
       "      <th>pixel782</th>\n",
       "      <th>pixel783</th>\n",
       "    </tr>\n",
       "  </thead>\n",
       "  <tbody>\n",
       "    <tr>\n",
       "      <th>0</th>\n",
       "      <td>1</td>\n",
       "      <td>0</td>\n",
       "      <td>0</td>\n",
       "      <td>0</td>\n",
       "      <td>0</td>\n",
       "      <td>0</td>\n",
       "      <td>0</td>\n",
       "      <td>0</td>\n",
       "      <td>0</td>\n",
       "      <td>0</td>\n",
       "      <td>...</td>\n",
       "      <td>0</td>\n",
       "      <td>0</td>\n",
       "      <td>0</td>\n",
       "      <td>0</td>\n",
       "      <td>0</td>\n",
       "      <td>0</td>\n",
       "      <td>0</td>\n",
       "      <td>0</td>\n",
       "      <td>0</td>\n",
       "      <td>0</td>\n",
       "    </tr>\n",
       "    <tr>\n",
       "      <th>1</th>\n",
       "      <td>0</td>\n",
       "      <td>0</td>\n",
       "      <td>0</td>\n",
       "      <td>0</td>\n",
       "      <td>0</td>\n",
       "      <td>0</td>\n",
       "      <td>0</td>\n",
       "      <td>0</td>\n",
       "      <td>0</td>\n",
       "      <td>0</td>\n",
       "      <td>...</td>\n",
       "      <td>0</td>\n",
       "      <td>0</td>\n",
       "      <td>0</td>\n",
       "      <td>0</td>\n",
       "      <td>0</td>\n",
       "      <td>0</td>\n",
       "      <td>0</td>\n",
       "      <td>0</td>\n",
       "      <td>0</td>\n",
       "      <td>0</td>\n",
       "    </tr>\n",
       "    <tr>\n",
       "      <th>2</th>\n",
       "      <td>1</td>\n",
       "      <td>0</td>\n",
       "      <td>0</td>\n",
       "      <td>0</td>\n",
       "      <td>0</td>\n",
       "      <td>0</td>\n",
       "      <td>0</td>\n",
       "      <td>0</td>\n",
       "      <td>0</td>\n",
       "      <td>0</td>\n",
       "      <td>...</td>\n",
       "      <td>0</td>\n",
       "      <td>0</td>\n",
       "      <td>0</td>\n",
       "      <td>0</td>\n",
       "      <td>0</td>\n",
       "      <td>0</td>\n",
       "      <td>0</td>\n",
       "      <td>0</td>\n",
       "      <td>0</td>\n",
       "      <td>0</td>\n",
       "    </tr>\n",
       "    <tr>\n",
       "      <th>3</th>\n",
       "      <td>4</td>\n",
       "      <td>0</td>\n",
       "      <td>0</td>\n",
       "      <td>0</td>\n",
       "      <td>0</td>\n",
       "      <td>0</td>\n",
       "      <td>0</td>\n",
       "      <td>0</td>\n",
       "      <td>0</td>\n",
       "      <td>0</td>\n",
       "      <td>...</td>\n",
       "      <td>0</td>\n",
       "      <td>0</td>\n",
       "      <td>0</td>\n",
       "      <td>0</td>\n",
       "      <td>0</td>\n",
       "      <td>0</td>\n",
       "      <td>0</td>\n",
       "      <td>0</td>\n",
       "      <td>0</td>\n",
       "      <td>0</td>\n",
       "    </tr>\n",
       "    <tr>\n",
       "      <th>4</th>\n",
       "      <td>0</td>\n",
       "      <td>0</td>\n",
       "      <td>0</td>\n",
       "      <td>0</td>\n",
       "      <td>0</td>\n",
       "      <td>0</td>\n",
       "      <td>0</td>\n",
       "      <td>0</td>\n",
       "      <td>0</td>\n",
       "      <td>0</td>\n",
       "      <td>...</td>\n",
       "      <td>0</td>\n",
       "      <td>0</td>\n",
       "      <td>0</td>\n",
       "      <td>0</td>\n",
       "      <td>0</td>\n",
       "      <td>0</td>\n",
       "      <td>0</td>\n",
       "      <td>0</td>\n",
       "      <td>0</td>\n",
       "      <td>0</td>\n",
       "    </tr>\n",
       "  </tbody>\n",
       "</table>\n",
       "<p>5 rows × 785 columns</p>\n",
       "</div>"
      ],
      "text/plain": [
       "   label  pixel0  pixel1  pixel2  pixel3  pixel4  pixel5  pixel6  pixel7  \\\n",
       "0      1       0       0       0       0       0       0       0       0   \n",
       "1      0       0       0       0       0       0       0       0       0   \n",
       "2      1       0       0       0       0       0       0       0       0   \n",
       "3      4       0       0       0       0       0       0       0       0   \n",
       "4      0       0       0       0       0       0       0       0       0   \n",
       "\n",
       "   pixel8  ...  pixel774  pixel775  pixel776  pixel777  pixel778  pixel779  \\\n",
       "0       0  ...         0         0         0         0         0         0   \n",
       "1       0  ...         0         0         0         0         0         0   \n",
       "2       0  ...         0         0         0         0         0         0   \n",
       "3       0  ...         0         0         0         0         0         0   \n",
       "4       0  ...         0         0         0         0         0         0   \n",
       "\n",
       "   pixel780  pixel781  pixel782  pixel783  \n",
       "0         0         0         0         0  \n",
       "1         0         0         0         0  \n",
       "2         0         0         0         0  \n",
       "3         0         0         0         0  \n",
       "4         0         0         0         0  \n",
       "\n",
       "[5 rows x 785 columns]"
      ]
     },
     "execution_count": 3,
     "metadata": {},
     "output_type": "execute_result"
    }
   ],
   "source": [
    "data.head()"
   ]
  },
  {
   "cell_type": "markdown",
   "metadata": {},
   "source": [
    "<h1>Data Preprocessing</h1>\n",
    "\n",
    "Train and test Splitting"
   ]
  },
  {
   "cell_type": "code",
   "execution_count": 4,
   "metadata": {},
   "outputs": [],
   "source": [
    "# write a function that one hot encodes the labels for the training data\n",
    "def one_hot(labels, num_classes=10):\n",
    "    # use the identity matrix and the label to place the 1 in the relevant spot\n",
    "    return np.eye(num_classes)[labels]"
   ]
  },
  {
   "cell_type": "code",
   "execution_count": 5,
   "metadata": {},
   "outputs": [],
   "source": [
    "def prepare_train_data():\n",
    "    \n",
    "    \n",
    "    # use the first forty thousand entries from the \n",
    "    training_data = data.loc[0:40000]\n",
    "    X_train = training_data.drop(columns = \"label\")\n",
    "    # dividing by 255 is done in order to scale all of the pixel values down to a value between 0 and 1\n",
    "    X_train = X_train / 255\n",
    "    y_train_label = training_data[\"label\"]\n",
    "\n",
    "    # converting my DataFrames into arrays is what strips the data of the things like indexes and column names\n",
    "    X_train = np.array(X_train)\n",
    "    m,n = X_train.shape\n",
    "    y_train = np.array(y_train_label)\n",
    "    # one hot encode the labels\n",
    "    y_train = one_hot(y_train)\n",
    "    \n",
    "\n",
    "    return X_train,y_train,y_train_label\n"
   ]
  },
  {
   "cell_type": "code",
   "execution_count": 7,
   "metadata": {},
   "outputs": [],
   "source": [
    "X_train,y_train,y_train_label = prepare_train_data()"
   ]
  },
  {
   "cell_type": "code",
   "execution_count": 8,
   "metadata": {},
   "outputs": [
    {
     "data": {
      "text/plain": [
       "(40001, 784)"
      ]
     },
     "execution_count": 8,
     "metadata": {},
     "output_type": "execute_result"
    }
   ],
   "source": [
    "X_train.shape"
   ]
  },
  {
   "cell_type": "code",
   "execution_count": 9,
   "metadata": {},
   "outputs": [
    {
     "data": {
      "text/plain": [
       "(40001, 10)"
      ]
     },
     "execution_count": 9,
     "metadata": {},
     "output_type": "execute_result"
    }
   ],
   "source": [
    "y_train.shape"
   ]
  },
  {
   "cell_type": "code",
   "execution_count": 10,
   "metadata": {},
   "outputs": [],
   "source": [
    "def prepare_test_data():\n",
    "    \n",
    "    # for the test data we are going to use the remaining entries\n",
    "    testing_data = data.loc[40000:42000]\n",
    "    X_test = testing_data.drop(columns=\"label\")\n",
    "    \n",
    "    # scale pixel values down to the 0,1 range\n",
    "    X_test = X_test / 255\n",
    "    y_test_label = testing_data[\"label\"]\n",
    "\n",
    "    # strip the data down\n",
    "    X_test = np.array(X_test)\n",
    "    y_test = np.array(y_test_label)\n",
    "    # one hot encode the labels\n",
    "    y_test = one_hot(y_test)\n",
    "\n",
    "    return X_test,y_test,y_test_label"
   ]
  },
  {
   "cell_type": "markdown",
   "metadata": {},
   "source": [
    "<h1> Neural Network Architecture </h1>"
   ]
  },
  {
   "cell_type": "markdown",
   "metadata": {},
   "source": [
    "Layers, nodes, weights and biases."
   ]
  },
  {
   "cell_type": "code",
   "execution_count": 11,
   "metadata": {},
   "outputs": [],
   "source": [
    "def init_params():\n",
    "    \n",
    "    # nodes per layer there are 784 in the input for the amount of pixels and 10 output nodes (one for each digit 0-9)\n",
    "    n = [784,10,10]\n",
    "    \n",
    "    # randomly initialize the weights for the first layer\n",
    "    # He initialization scales the weights accord to the number of inputs for each layer\n",
    "    w1 = np.random.randn(n[1],n[0]) * np.sqrt(2. / n[0])\n",
    "    \n",
    "    w2 = np.random.randn(n[2],n[1]) *  np.sqrt(2. / n[1])\n",
    "    \n",
    "    # biases offset the weighted sum of the inputs, since they are not scaling activations, only shifting them\n",
    "    b1 = np.random.randn(n[1],1)\n",
    "    \n",
    "    b2 = np.random.randn(n[2],1)\n",
    "\n",
    "    return w1,b1,w2,b2\n"
   ]
  },
  {
   "cell_type": "markdown",
   "metadata": {},
   "source": [
    "Activation functions"
   ]
  },
  {
   "cell_type": "code",
   "execution_count": 12,
   "metadata": {},
   "outputs": [],
   "source": [
    "def relu(z):\n",
    "    # if the input of this function is positive, it is returned.  if not it returns 0\n",
    "    # introduces non-linearity\n",
    "    return np.maximum(z,0)\n",
    "\n",
    "def d_relu(z):\n",
    "    # this returns 1 if the input is greater than 0, returns 0 otherwise\n",
    "    # the derivative of relu is used during backpropagation\n",
    "    return (z > 0).astype(np.float32)"
   ]
  },
  {
   "cell_type": "code",
   "execution_count": 13,
   "metadata": {},
   "outputs": [],
   "source": [
    "def softmax(Z):\n",
    "    # this will convert a matrix into a probability distribution that sums to 1\n",
    "    A = np.exp(Z) / sum(np.exp(Z))\n",
    "    return A\n",
    "\n",
    "def d_soft(A2, y_train):\n",
    "    # the gradient for softmax and cross-entropy loss simplifies to the difference of the predicted output A2 and the true label\n",
    "    # the derivative of softmax is used during backprop\n",
    "    return A2 - y_train \n"
   ]
  },
  {
   "cell_type": "markdown",
   "metadata": {},
   "source": [
    "Cross Entropy Loss Function for Multiple Classes"
   ]
  },
  {
   "cell_type": "code",
   "execution_count": 14,
   "metadata": {},
   "outputs": [],
   "source": [
    "def categorical_crossentropy_loss(y_train, y_hat):\n",
    "    # clipping is done to avoid y_hat being equal to exactly 0 or 1 which would cause problems when taking logs\n",
    "    y_hat = np.clip(y_hat, 1e-10, 1 - 1e-10)\n",
    "    # the number of instances in the training data\n",
    "    m = y_train.shape[0]\n",
    "    # loss measures how wrong the neural network is across a batch of samples\n",
    "    # this function is also convex which means it has a global minimum, this is helpful during gradient descent\n",
    "    loss = -np.sum(y_train.T * np.log(y_hat))/m\n",
    "    \n",
    "    return loss"
   ]
  },
  {
   "cell_type": "markdown",
   "metadata": {},
   "source": [
    "Forward Propagation"
   ]
  },
  {
   "cell_type": "code",
   "execution_count": 15,
   "metadata": {},
   "outputs": [],
   "source": [
    "def forward_prop(X_train,w1,b1,w2,b2):\n",
    "    \n",
    "    # A0 represents the input layer, it is tranposed so it matches the dimensions of the next layer\n",
    "    A0 = X_train.T\n",
    "    \n",
    "    # the data in the input layer is passed through the first layer by being scaled by weight 1 and shifted by bias 1\n",
    "    z1 =  np.dot(w1,A0) + b1\n",
    "    \n",
    "    # we get A1 by passing z1 through the relu function which is the first step in the network learning patterns\n",
    "    A1 = relu(z1)\n",
    "\n",
    "    # A1 is passed through the second layer by being scaled by weight 2 and shifted by bias 2\n",
    "    z2 = np.dot(w2,A1) + b2\n",
    "    \n",
    "    # softmax converts our z2 matrix into a probability distribution for each class (digits 0-9)\n",
    "    A2 = softmax(z2)\n",
    "    \n",
    "    # this information is stored in a cache so it can be updated during backpropagation\n",
    "    cache = {\"A0\" :A0,\n",
    "             \"A1\" : A1,\n",
    "             \"A2\" : A2 ,\n",
    "             \"z2\" : z2,\n",
    "             \"z1\" : z1}\n",
    "    \n",
    "    return cache\n"
   ]
  },
  {
   "cell_type": "markdown",
   "metadata": {},
   "source": [
    "Back Propagation"
   ]
  },
  {
   "cell_type": "code",
   "execution_count": 16,
   "metadata": {},
   "outputs": [],
   "source": [
    "def back_prop(X_train,y_train,cache,w1,b1,w2,b2,alpha=0.01,m=X_train.shape[0]):\n",
    "    \n",
    "    \n",
    "    # extract the values from the cache\n",
    "    A0 = cache[\"A0\"]\n",
    "    A1 = cache[\"A1\"]\n",
    "    A2 = cache[\"A2\"]\n",
    "    z1 = cache[\"z1\"]\n",
    "    z2 = cache[\"z2\"]\n",
    "\n",
    "    # derivative of loss with respect to z2\n",
    "    da2 = d_soft(A2,y_train.T)\n",
    "    dz2 = da2\n",
    "\n",
    "    # derivative of loss with respect to w2 and b2\n",
    "    dw2 = np.dot(dz2,A1.T)/m\n",
    "    db2 = np.sum(dz2,axis=1,keepdims=True)/m\n",
    "\n",
    "    # derivative of loss with respect to a1 and z1\n",
    "    da1 = np.dot(w2.T,dz2)\n",
    "    dz1 = da1 * d_relu(z1)\n",
    "\n",
    "    # derivative of loss with respect to w1 and b1\n",
    "    dw1 = np.dot(dz1,A0.T)/m\n",
    "    db1 = np.sum(dz1,axis=1,keepdims = True)/m\n",
    "\n",
    "    \n",
    "    \n",
    "    # update the weights and biases (gradient descent)\n",
    "    w1 -= alpha * dw1  \n",
    "    b1 -= alpha * db1  \n",
    "    w2 -= alpha * dw2  \n",
    "    b2 -= alpha * db2  \n",
    "    \n",
    "\n",
    "    # store the gradients inside a cache\n",
    "    gradients = {\n",
    "        \"dW1\": dw1,\n",
    "        \"db1\": db1,\n",
    "        \"dW2\": dw2,\n",
    "        \"db2\": db2\n",
    "    }\n",
    "\n",
    "    return w1, b1, w2, b2, gradients\n",
    "\n",
    "\n"
   ]
  },
  {
   "cell_type": "markdown",
   "metadata": {},
   "source": [
    "The training function"
   ]
  },
  {
   "cell_type": "code",
   "execution_count": 17,
   "metadata": {},
   "outputs": [],
   "source": [
    "def train(X_train, y_train, num_epochs=1500, alpha=0.15, hidden_size=10, output_size=10):\n",
    "    \n",
    "    \n",
    "    input_size = X_train.shape[0]  \n",
    "    m = X_train.shape[1] \n",
    "\n",
    "    \n",
    "    w1, b1, w2, b2 = init_params()\n",
    "    losses =[]\n",
    "    \n",
    "    for epoch in range(num_epochs):\n",
    "        \n",
    "        # feed forward the data\n",
    "        cache = forward_prop(X_train, w1, b1, w2, b2)\n",
    "\n",
    "        # call the predictions\n",
    "        A2 = cache[\"A2\"]\n",
    "\n",
    "        # calculate the loss of the model\n",
    "        loss = categorical_crossentropy_loss(y_train, A2)\n",
    "        \n",
    "        # store this loss in a list\n",
    "        losses.append(loss)\n",
    "\n",
    "        # use backpropagation to updaye the weights and biases\n",
    "        w1, b1, w2, b2, gradients = back_prop(X_train, y_train, cache, w1, b1, w2, b2, alpha)\n",
    "\n",
    "        \n",
    "        if epoch % 100 == 0:\n",
    "            print(f\"Epoch {epoch}/{num_epochs}, Loss: {loss:.4f}\")\n",
    "            \n",
    "    # store the trained weights and biases in a dictionary called model\n",
    "    model = {\"w1\" : w1,\n",
    "               \"w2\" : w2,\n",
    "               \"b1\" : b1,\n",
    "               \"b2\" : b2}\n",
    "    \n",
    "    return model,losses\n"
   ]
  },
  {
   "cell_type": "markdown",
   "metadata": {},
   "source": [
    "A script that builds the model."
   ]
  },
  {
   "cell_type": "code",
   "execution_count": 18,
   "metadata": {},
   "outputs": [
    {
     "name": "stdout",
     "output_type": "stream",
     "text": [
      "Epoch 0/1500, Loss: 3.0079\n",
      "Epoch 100/1500, Loss: 0.5434\n",
      "Epoch 200/1500, Loss: 0.4046\n",
      "Epoch 300/1500, Loss: 0.3578\n",
      "Epoch 400/1500, Loss: 0.3350\n",
      "Epoch 500/1500, Loss: 0.3212\n",
      "Epoch 600/1500, Loss: 0.3117\n",
      "Epoch 700/1500, Loss: 0.3046\n",
      "Epoch 800/1500, Loss: 0.2989\n",
      "Epoch 900/1500, Loss: 0.2940\n",
      "Epoch 1000/1500, Loss: 0.2898\n",
      "Epoch 1100/1500, Loss: 0.2862\n",
      "Epoch 1200/1500, Loss: 0.2830\n",
      "Epoch 1300/1500, Loss: 0.2800\n",
      "Epoch 1400/1500, Loss: 0.2774\n"
     ]
    }
   ],
   "source": [
    "X_train,y_train,y_train_label = prepare_train_data()\n",
    "\n",
    "model_cache,errors = train(X_train,y_train)"
   ]
  },
  {
   "cell_type": "code",
   "execution_count": 19,
   "metadata": {},
   "outputs": [
    {
     "data": {
      "text/plain": [
       "dict_keys(['w1', 'w2', 'b1', 'b2'])"
      ]
     },
     "execution_count": 19,
     "metadata": {},
     "output_type": "execute_result"
    }
   ],
   "source": [
    "model_cache.keys()"
   ]
  },
  {
   "cell_type": "markdown",
   "metadata": {},
   "source": [
    "<h1> Making Predictions </h1>"
   ]
  },
  {
   "cell_type": "code",
   "execution_count": 20,
   "metadata": {},
   "outputs": [],
   "source": [
    "def model_predict(X, model_cache):\n",
    "    \n",
    "    # extract the trained weights and biases from the model\n",
    "    w1 = model_cache[\"w1\"]\n",
    "    b1 = model_cache[\"b1\"]\n",
    "    w2 = model_cache[\"w2\"]\n",
    "    b2 = model_cache[\"b2\"]\n",
    "    \n",
    "    # feed the data through the trained weights and biases\n",
    "    A0 = X.T\n",
    "    z1 = np.dot(w1, A0) + b1  \n",
    "    A1 = relu(z1)  \n",
    "    \n",
    "    z2 = np.dot(w2, A1) + b2  \n",
    "    A2 = softmax(z2)  \n",
    "\n",
    "    # call the index with the highest value to get the predicted class\n",
    "    predictions = np.argmax(A2, axis=0)\n",
    "    \n",
    "    return predictions"
   ]
  },
  {
   "cell_type": "code",
   "execution_count": 21,
   "metadata": {},
   "outputs": [],
   "source": [
    "def image_predict(image,model_cache):\n",
    "\n",
    "    # this is essentially the same function as above except its for a single image, not a batch\n",
    "    w1 = model_cache[\"w1\"]\n",
    "    b1 = model_cache[\"b1\"]\n",
    "    w2 = model_cache[\"w2\"]\n",
    "    b2 = model_cache[\"b2\"]\n",
    "\n",
    "    \n",
    "    image = image.reshape(1,-1)\n",
    "\n",
    "    \n",
    "    A0 = image.T  \n",
    "    z1 = np.dot(w1, A0) + b1 \n",
    "    A1 = relu(z1)  \n",
    "    \n",
    "    z2 = np.dot(w2, A1) + b2  \n",
    "    A2 = softmax(z2)  \n",
    "\n",
    "    \n",
    "    image_prediction = np.argmax(A2, axis=0)  \n",
    "    \n",
    "    return image_prediction[0]\n"
   ]
  },
  {
   "cell_type": "markdown",
   "metadata": {},
   "source": [
    "<h1> Model Perfomance </h1>"
   ]
  },
  {
   "cell_type": "code",
   "execution_count": 22,
   "metadata": {},
   "outputs": [],
   "source": [
    "def performance_metrics(X_test,y_test,y_test_label):\n",
    "    \n",
    "\n",
    "    # load all of the models predictions for the test data into a dataframe\n",
    "    y_pred = model_predict(X_test,model_cache)\n",
    "    y_pred = pd.DataFrame(y_pred)\n",
    "    y_pred.rename(columns = {0 : \"prediction\"},inplace=True)\n",
    "\n",
    "    # load the actual labels into another dataframe\n",
    "    y_actual = pd.DataFrame(y_test_label)\n",
    "    y_actual.rename(columns = {\"label\" : \"actual\"},inplace=True)\n",
    "    y_actual.reset_index(drop=True,inplace=True)\n",
    "\n",
    "    # concat these two dataframe so we can run comparisions\n",
    "    compare_df = pd.concat([y_pred,y_actual],axis=1)\n",
    "    compare_df[\"correct\"] = compare_df[\"prediction\"] == compare_df[\"actual\"]\n",
    "\n",
    "    # count the amount that the model got correct and get a score\n",
    "    amount_correct = compare_df[\"correct\"].sum(axis=0)\n",
    "    accuracy = amount_correct/len(compare_df)\n",
    "\n",
    "    return compare_df,accuracy\n",
    "    "
   ]
  },
  {
   "cell_type": "code",
   "execution_count": 23,
   "metadata": {},
   "outputs": [],
   "source": [
    "X_test,y_test,y_test_label = prepare_test_data()\n",
    "\n",
    "compare_df,accuracy = performance_metrics(X_test,y_test,y_test_label)"
   ]
  },
  {
   "cell_type": "code",
   "execution_count": 24,
   "metadata": {},
   "outputs": [
    {
     "name": "stdout",
     "output_type": "stream",
     "text": [
      "accuracy: 0.909\n"
     ]
    }
   ],
   "source": [
    "print(\"accuracy:\",accuracy)"
   ]
  },
  {
   "cell_type": "code",
   "execution_count": 25,
   "metadata": {},
   "outputs": [
    {
     "data": {
      "text/html": [
       "<div>\n",
       "<style scoped>\n",
       "    .dataframe tbody tr th:only-of-type {\n",
       "        vertical-align: middle;\n",
       "    }\n",
       "\n",
       "    .dataframe tbody tr th {\n",
       "        vertical-align: top;\n",
       "    }\n",
       "\n",
       "    .dataframe thead th {\n",
       "        text-align: right;\n",
       "    }\n",
       "</style>\n",
       "<table border=\"1\" class=\"dataframe\">\n",
       "  <thead>\n",
       "    <tr style=\"text-align: right;\">\n",
       "      <th></th>\n",
       "      <th>prediction</th>\n",
       "      <th>actual</th>\n",
       "      <th>correct</th>\n",
       "    </tr>\n",
       "  </thead>\n",
       "  <tbody>\n",
       "    <tr>\n",
       "      <th>0</th>\n",
       "      <td>2</td>\n",
       "      <td>2</td>\n",
       "      <td>True</td>\n",
       "    </tr>\n",
       "    <tr>\n",
       "      <th>1</th>\n",
       "      <td>3</td>\n",
       "      <td>3</td>\n",
       "      <td>True</td>\n",
       "    </tr>\n",
       "    <tr>\n",
       "      <th>2</th>\n",
       "      <td>3</td>\n",
       "      <td>9</td>\n",
       "      <td>False</td>\n",
       "    </tr>\n",
       "    <tr>\n",
       "      <th>3</th>\n",
       "      <td>7</td>\n",
       "      <td>7</td>\n",
       "      <td>True</td>\n",
       "    </tr>\n",
       "    <tr>\n",
       "      <th>4</th>\n",
       "      <td>8</td>\n",
       "      <td>8</td>\n",
       "      <td>True</td>\n",
       "    </tr>\n",
       "    <tr>\n",
       "      <th>...</th>\n",
       "      <td>...</td>\n",
       "      <td>...</td>\n",
       "      <td>...</td>\n",
       "    </tr>\n",
       "    <tr>\n",
       "      <th>1995</th>\n",
       "      <td>0</td>\n",
       "      <td>0</td>\n",
       "      <td>True</td>\n",
       "    </tr>\n",
       "    <tr>\n",
       "      <th>1996</th>\n",
       "      <td>1</td>\n",
       "      <td>1</td>\n",
       "      <td>True</td>\n",
       "    </tr>\n",
       "    <tr>\n",
       "      <th>1997</th>\n",
       "      <td>7</td>\n",
       "      <td>7</td>\n",
       "      <td>True</td>\n",
       "    </tr>\n",
       "    <tr>\n",
       "      <th>1998</th>\n",
       "      <td>6</td>\n",
       "      <td>6</td>\n",
       "      <td>True</td>\n",
       "    </tr>\n",
       "    <tr>\n",
       "      <th>1999</th>\n",
       "      <td>9</td>\n",
       "      <td>9</td>\n",
       "      <td>True</td>\n",
       "    </tr>\n",
       "  </tbody>\n",
       "</table>\n",
       "<p>2000 rows × 3 columns</p>\n",
       "</div>"
      ],
      "text/plain": [
       "      prediction  actual  correct\n",
       "0              2       2     True\n",
       "1              3       3     True\n",
       "2              3       9    False\n",
       "3              7       7     True\n",
       "4              8       8     True\n",
       "...          ...     ...      ...\n",
       "1995           0       0     True\n",
       "1996           1       1     True\n",
       "1997           7       7     True\n",
       "1998           6       6     True\n",
       "1999           9       9     True\n",
       "\n",
       "[2000 rows x 3 columns]"
      ]
     },
     "execution_count": 25,
     "metadata": {},
     "output_type": "execute_result"
    }
   ],
   "source": [
    "compare_df"
   ]
  },
  {
   "cell_type": "markdown",
   "metadata": {},
   "source": [
    "Plotting the Cost"
   ]
  },
  {
   "cell_type": "code",
   "execution_count": 26,
   "metadata": {},
   "outputs": [],
   "source": [
    "def plot_cost(error_list,iterations=range(1,1501)):\n",
    "    plt.plot(iterations,errors)\n",
    "    plt.xlabel('Epochs')\n",
    "    plt.ylabel(\"Cost\")\n",
    "    plt.title(\"Cost over Epochs\")\n",
    "    plt.show()"
   ]
  },
  {
   "cell_type": "code",
   "execution_count": 27,
   "metadata": {},
   "outputs": [
    {
     "data": {
      "image/png": "[encoded data removed]",
      "text/plain": [
       "<Figure size 640x480 with 1 Axes>"
      ]
     },
     "metadata": {},
     "output_type": "display_data"
    }
   ],
   "source": [
    "plot_cost(errors)"
   ]
  },
  {
   "cell_type": "markdown",
   "metadata": {},
   "source": [
    "<h1> Model Serialization </h1>"
   ]
  },
  {
   "cell_type": "code",
   "execution_count": 28,
   "metadata": {},
   "outputs": [],
   "source": [
    "import pickle"
   ]
  },
  {
   "cell_type": "markdown",
   "metadata": {},
   "source": [
    "Inside the pickle I want the model, the feed forward function, and accuracy metrics."
   ]
  },
  {
   "cell_type": "code",
   "execution_count": 29,
   "metadata": {},
   "outputs": [
    {
     "data": {
      "text/plain": [
       "{'w1': array([[-0.01976538, -0.00628602,  0.03579461, ...,  0.11042308,\n",
       "          0.10854866,  0.06685476],\n",
       "        [-0.04957384,  0.03427966, -0.03059694, ..., -0.03409137,\n",
       "          0.02346369,  0.07549176],\n",
       "        [ 0.0200878 , -0.00504093, -0.09223921, ...,  0.01652161,\n",
       "         -0.02925595,  0.04863751],\n",
       "        ...,\n",
       "        [ 0.02340058,  0.0279786 , -0.04539013, ..., -0.01761576,\n",
       "         -0.06917253,  0.01868866],\n",
       "        [ 0.00596805, -0.00891449, -0.02228728, ..., -0.13032353,\n",
       "          0.0724771 ,  0.01854952],\n",
       "        [ 0.00706435, -0.06265492, -0.02599506, ..., -0.07615633,\n",
       "         -0.00993424, -0.07566356]]),\n",
       " 'w2': array([[-0.10139382, -0.35689657, -1.53709545,  0.57648151,  0.3425518 ,\n",
       "          0.17327409,  0.0264326 ,  0.99997942,  0.79636988, -1.3203323 ],\n",
       "        [ 0.37122248, -0.51682807,  0.63313527, -0.15672574, -0.86316698,\n",
       "         -0.73633264,  0.62688197, -1.22978173,  0.5959038 ,  0.83572044],\n",
       "        [-0.01841488, -0.00631948,  0.41734517,  0.30323806,  1.24067547,\n",
       "         -1.0036728 , -0.25876121,  0.318314  ,  0.48405716, -0.46310739],\n",
       "        [ 0.5729702 , -1.03969539, -0.06467994, -0.07172179,  1.33762037,\n",
       "          0.27988242,  1.30476768, -0.47526735, -0.54909343, -0.36272325],\n",
       "        [-0.21512353,  0.30792646,  0.62166039,  0.08976744, -1.36362107,\n",
       "          0.40477102, -0.30350473,  0.63470086, -1.25485355, -0.16131127],\n",
       "        [ 0.1483182 , -0.31180658, -0.79726695, -0.17672759, -1.19951375,\n",
       "          0.71520684,  1.55832334,  0.01764678,  0.58674537, -0.48861423],\n",
       "        [-0.00553797,  0.42283321, -0.79452507,  0.37405546, -0.85408071,\n",
       "         -1.31849063,  0.79922586,  0.9234559 , -0.18213885,  1.15097577],\n",
       "        [-0.19213002, -1.79435727,  0.06647356,  0.35620243, -0.12169472,\n",
       "          0.82733777, -1.11115216,  0.40303068,  0.11904341,  0.86142701],\n",
       "        [ 0.12499829,  1.05202941, -0.28947599,  0.46826979, -0.10786814,\n",
       "          0.40189539, -0.12280924, -1.00994623,  0.38968778, -0.29455192],\n",
       "        [-0.5443718 ,  0.12831064, -0.80905896,  0.13138818,  0.43535355,\n",
       "          0.64588158, -0.64753717, -0.60232563, -1.15761693,  0.91390926]]),\n",
       " 'b1': array([[-1.60514006],\n",
       "        [-0.56609763],\n",
       "        [ 0.72143201],\n",
       "        [-1.93568682],\n",
       "        [-0.64109886],\n",
       "        [ 0.05408436],\n",
       "        [ 1.30571095],\n",
       "        [ 0.96182065],\n",
       "        [ 0.81529931],\n",
       "        [ 0.85279726]]),\n",
       " 'b2': array([[ 0.43028553],\n",
       "        [-0.076851  ],\n",
       "        [ 0.2112639 ],\n",
       "        [-0.17105204],\n",
       "        [-0.39644685],\n",
       "        [-0.7226093 ],\n",
       "        [-2.36855779],\n",
       "        [ 0.31902391],\n",
       "        [ 0.33125475],\n",
       "        [ 1.85417645]])}"
      ]
     },
     "execution_count": 29,
     "metadata": {},
     "output_type": "execute_result"
    }
   ],
   "source": [
    "model_cache"
   ]
  },
  {
   "cell_type": "code",
   "execution_count": 30,
   "metadata": {},
   "outputs": [],
   "source": [
    "digit_recognizer = {\n",
    "    \"digit_model\" : model_cache,\n",
    "    \"costs\" : errors,\n",
    "    \"compare_df\" : compare_df,\n",
    "    \"accuracy\" : accuracy\n",
    "}\n"
   ]
  },
  {
   "cell_type": "code",
   "execution_count": 31,
   "metadata": {},
   "outputs": [],
   "source": [
    "# Saving the object to a pickle file\n",
    "with open('digit_recognizer.pkl', 'wb') as f:\n",
    "    pickle.dump(digit_recognizer, f)"
   ]
  }
 ],
 "metadata": {
  "kernelspec": {
   "display_name": "base",
   "language": "python",
   "name": "python3"
  },
  "language_info": {
   "codemirror_mode": {
    "name": "ipython",
    "version": 3
   },
   "file_extension": ".py",
   "mimetype": "text/x-python",
   "name": "python",
   "nbconvert_exporter": "python",
   "pygments_lexer": "ipython3",
   "version": "3.9.19"
  }
 },
 "nbformat": 4,
 "nbformat_minor": 2
}
